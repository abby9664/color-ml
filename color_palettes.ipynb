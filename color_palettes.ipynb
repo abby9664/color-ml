{
  "nbformat": 4,
  "nbformat_minor": 0,
  "metadata": {
    "colab": {
      "name": "color palettes.ipynb",
      "provenance": [],
      "collapsed_sections": [],
      "authorship_tag": "ABX9TyNLI5ytBS6n5B3VlcJ/tHts"
    },
    "kernelspec": {
      "name": "python3",
      "display_name": "Python 3"
    }
  },
  "cells": [
    {
      "cell_type": "code",
      "metadata": {
        "id": "sLnW2Ivi-rv1"
      },
      "source": [
        "!pip install selenium\r\n",
        "!apt-get update # to update ubuntu to correctly run apt install\r\n",
        "!apt install chromium-chromedriver\r\n",
        "import time\r\n",
        "import csv\r\n",
        "import random\r\n",
        "import pandas as pd\r\n",
        "from selenium import webdriver\r\n",
        "from selenium.webdriver.common.action_chains import ActionChains\r\n",
        "from selenium.webdriver.common.keys import Keys "
      ],
      "execution_count": null,
      "outputs": []
    },
    {
      "cell_type": "code",
      "metadata": {
        "id": "bHJV_Fx9QehD"
      },
      "source": [
        "options = webdriver.ChromeOptions()\r\n",
        "options.add_argument('--headless')\r\n",
        "options.add_argument('--no-sandbox')\r\n",
        "options.add_argument('--disable-dev-shm-usage')\r\n",
        "options.add_argument('user-agent=Mozilla/5.0 (Windows NT 10.0; Win64; x64) Abby W / awong.sh@mysummitps.org / not using anything for plagiarism or malicious intent, just color schemes for learning about ML')\r\n",
        "\r\n",
        "driver = webdriver.Chrome('chromedriver', options=options)\r\n",
        "\r\n",
        "def getColors():\r\n",
        "  driver.get('https://coolors.co/f4f1de-e07a5f-3d405b-81b29a-f2cc8f');\r\n",
        "  action = ActionChains(driver)\r\n",
        "  action.send_keys(Keys.SPACE).perform()\r\n",
        "  scheme = driver.current_url[19:].split(\"-\")\r\n",
        "  return scheme\r\n",
        "\r\n",
        "dataset = []\r\n",
        "num = 0\r\n",
        "\r\n",
        "for _ in range(15):\r\n",
        "  for x in range(random.randint(20, 30)):\r\n",
        "    dataset.append(getColors())\r\n",
        "    num+=1\r\n",
        "    print(f\"got color scheme #\", num)\r\n",
        "    time.sleep(random.randint(5, 9))\r\n",
        "  time.sleep(random.randint(30, 45))\r\n",
        "  \r\n",
        "\r\n",
        "file = open('dataset.csv', 'a+', newline='')\r\n",
        "\r\n",
        "with file:\r\n",
        "  print(\"creating csv!\")\r\n",
        "  # header = ['feature', 'label_0', 'label_1', 'label_2', 'label_3',] # comment out when the file has been created already\r\n",
        "  write = csv.writer(file)\r\n",
        "  # write.writerow(header) # comment out when the file has been created already\r\n",
        "  write.writerows(dataset)\r\n",
        "  print(\"all done!\")"
      ],
      "execution_count": null,
      "outputs": []
    },
    {
      "cell_type": "code",
      "metadata": {
        "id": "gb6dKQnmLJez"
      },
      "source": [
        "df = pd.read_csv('dataset.csv')\r\n",
        "df.drop_duplicates(keep=False,inplace=True)\r\n",
        "df.reset_index(drop=True)\r\n",
        "df.drop(df.filter(regex=\"Unnamed\"), axis=1, inplace=True)\r\n",
        "df.to_csv('dataset.csv')"
      ],
      "execution_count": null,
      "outputs": []
    }
  ]
}